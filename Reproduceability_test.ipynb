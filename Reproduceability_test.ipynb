{
 "cells": [
  {
   "cell_type": "code",
   "execution_count": null,
   "id": "8ce22606-391c-435c-985d-2db8dfe12f3e",
   "metadata": {},
   "outputs": [],
   "source": [
    "import pandas as pd\n",
    "import numpy as np\n",
    "import matplotlib.pyplot as plt\n",
    "import networkx as nx\n",
    "import seaborn as sns\n",
    "import random\n",
    "from shapely.geometry import Point\n",
    "from shapely import contains_xy\n",
    "\n",
    "# Import functions from functions.py\n",
    "from functions import generate_random_location_within_map_domain, get_flood_depth, calculate_basic_flood_damage, floodplain_multipolygon\n",
    "import networkx as nx\n",
    "from mesa import Model, Agent\n",
    "from mesa.time import RandomActivation\n",
    "from mesa.space import NetworkGrid\n",
    "from mesa.datacollection import DataCollector\n",
    "from mesa import batch_run\n",
    "import geopandas as gpd\n",
    "import rasterio as rs\n",
    "import matplotlib.pyplot as plt\n",
    "# Import the agent class(es) from agents.py\n",
    "from agents import Households\n",
    "from agents import Government\n",
    "from rbb import OrganizationInstrument\n",
    "\n",
    "# Import functions from functions.py\n",
    "from functions import get_flood_map_data, calculate_basic_flood_damage\n",
    "from functions import map_domain_gdf, floodplain_gdf\n",
    "\n",
    "from model import AdaptationModel"
   ]
  },
  {
   "cell_type": "code",
   "execution_count": null,
   "id": "c847530e-ac3e-434a-a7a1-08956a0661a8",
   "metadata": {},
   "outputs": [],
   "source": [
    "dyke = OrganizationInstrument(name = 'Dyke', cost = 8, completion_time = 5, protection_level = 0.7, status = 1)\n",
    "wetland = OrganizationInstrument(name = 'Wetland', cost = 5,  completion_time = 2, protection_level = 0.4, status = 1)  \n",
    "options_list = [dyke, wetland]"
   ]
  },
  {
   "cell_type": "markdown",
   "id": "156c23e1-574e-4fd3-8aa5-184de04d6d6d",
   "metadata": {},
   "source": [
    "## Batchrunner"
   ]
  },
  {
   "cell_type": "code",
   "execution_count": null,
   "id": "6f0c7021-ec31-40c7-bb75-aa4505bd0267",
   "metadata": {},
   "outputs": [],
   "source": [
    "params = {\n",
    "    \"seed\": 42,\n",
    "    \"options_list\": None,\n",
    "    \"number_of_households\": 100,\n",
    "    \"flood_map_choice\": 'harvey',\n",
    "    \"network\": 'watts_strogatz', #[\"erdos_renyi\", \"barabasi_albert\", \"watts_strogatz\"],\n",
    "    \"probability_of_network_connection\": 0.4,\n",
    "    \"number_of_edges\" : 3,\"number_of_nearest_neighbours\" : 5,\n",
    "\n",
    "    \"flood_probability\" : 0.05,\n",
    "    \"economic_status\": 'neutral',\n",
    "    \"intention_action_gap\" : 0.3,\n",
    "    \"low_threshold\" : 0.6,\n",
    "    \"medium_threshold\" : 0.7,\n",
    "    \"high_threshold\" : 0.8,\n",
    "    \"upper_budget_threshold\" : 7000,\n",
    "    \"lower_budget_threshold\" : 3000,\n",
    "    \"elevation_time\" : 4,\n",
    "    \"elevation_cost\" : 5000,\n",
    "    \"elevation_protection\" : 0.3,\n",
    "    \"elevation_effectiveness\" : 1,\n",
    "    \"wet_proofing_time\" : 2,\n",
    "    \"wet_proofing_cost\" : 3000,\n",
    "    \"wet_proofing_effectiveness\" : 0.4,\n",
    "    \"dry_proofing_time\" : 1,\n",
    "    \"dry_proofing_cost\" : 1500,\n",
    "    \"dry_proofing_protection\" : 1,\n",
    "    \"dry_proofing_effectiveness\" : 0.85,\n",
    "    \"max_damage_costs\" : 5000,\n",
    "    \"flood_risk_threshold\": 1.5,\n",
    "    \"public_concern_threshold\": 0.6,\n",
    "    \"damage_threshold\": 0.3,\n",
    "    \"high_risk_bound\": 2.9,\n",
    "    \"lower_risk_bound\": 1.9,\n",
    "    \"gov_detector\": 0,\n",
    "    \"gov_structure\": 'centralised',\n",
    "          }\n",
    "\n",
    "results = batch_run(\n",
    "    AdaptationModel,\n",
    "    parameters=params,\n",
    "    iterations=5,\n",
    "    max_steps=120,\n",
    "    number_processes=1,\n",
    "    data_collection_period=1,\n",
    "    display_progress=True,\n",
    ")"
   ]
  },
  {
   "cell_type": "code",
   "execution_count": null,
   "id": "9c57be1d-278e-4323-8b2d-e7e8b81e7190",
   "metadata": {},
   "outputs": [],
   "source": [
    "complete_df = pd.DataFrame(results)\n",
    "subset_df = complete_df[['iteration', 'Step', 'seed', \n",
    "                           'options_list', 'number_of_households', \n",
    "                           'Average Adaptation Motivation', 'Flood', 'Average flood damage', \n",
    "                           'total_adapted_households', 'total_decisions_to_adapt']]\n",
    "df_no_agent = subset_df.drop_duplicates().reset_index().drop(columns=['index'])"
   ]
  },
  {
   "cell_type": "code",
   "execution_count": null,
   "id": "a5486be7-1bf0-4e79-baa5-83b16e32c68b",
   "metadata": {},
   "outputs": [],
   "source": [
    "def plot_KPI(df, kpi, c = 'blue', n_iterations = 5):\n",
    "    g = sns.FacetGrid(df, col_wrap = n_iterations, col = 'iteration')\n",
    "    g.fig.suptitle(kpi.capitalize() + \" in basecase for different iterations\")\n",
    "    g.map(sns.lineplot,x = df['Step'], y= df[kpi], color = c, label = kpi)\n",
    "    plt.legend()\n",
    "    g.set_axis_labels(x_var = \"Timestep, per 3 months\", y_var = kpi)\n",
    "    g.set(xticks = list(range(0, 121, 20)))\n",
    "    plt.show()"
   ]
  },
  {
   "cell_type": "code",
   "execution_count": null,
   "id": "c995eeec-197d-40ca-9d1c-fa335649837a",
   "metadata": {},
   "outputs": [],
   "source": [
    "KPIs = ['Average Adaptation Motivation', 'total_adapted_households', 'total_decisions_to_adapt', 'Average flood damage']\n",
    "colors = ['blue', 'red', 'green', 'orange']\n",
    "\n",
    "for i in range(len(KPIs)):\n",
    "    plot_KPI(df_no_agent, KPIs[i], c = colors[i], n_iterations = 5)"
   ]
  }
 ],
 "metadata": {
  "kernelspec": {
   "display_name": "Python 3 (ipykernel)",
   "language": "python",
   "name": "python3"
  },
  "language_info": {
   "codemirror_mode": {
    "name": "ipython",
    "version": 3
   },
   "file_extension": ".py",
   "mimetype": "text/x-python",
   "name": "python",
   "nbconvert_exporter": "python",
   "pygments_lexer": "ipython3",
   "version": "3.12.0"
  }
 },
 "nbformat": 4,
 "nbformat_minor": 5
}
