{
 "cells": [
  {
   "cell_type": "code",
   "execution_count": null,
   "id": "1aa3cee4-e8f1-463a-bbc0-abfd1f626351",
   "metadata": {},
   "outputs": [],
   "source": [
    "import pandas as pd\n",
    "import numpy as np\n",
    "import matplotlib.pyplot as plt\n",
    "import networkx as nx\n",
    "import seaborn as sns"
   ]
  },
  {
   "cell_type": "code",
   "execution_count": null,
   "id": "52bcd9b6-3d8c-4536-98e9-1f774faddc94",
   "metadata": {},
   "outputs": [],
   "source": [
    "df_n70 = pd.read_csv('dataframes/df_basecase_n70_randomseed.csv')\n",
    "subset_df = df_n70[['iteration', 'Step', \n",
    "                    'options_list', 'number_of_households', \n",
    "                    'Average Adaptation Motivation', 'Average flood damage', \n",
    "                    'total_adapted_households', 'total_decisions_to_adapt']]\n",
    "df_no_agent = subset_df.drop_duplicates().reset_index().drop(columns=['index'])"
   ]
  },
  {
   "cell_type": "code",
   "execution_count": null,
   "id": "c63ab939-ca4d-43c5-bd86-b87ff12335ec",
   "metadata": {},
   "outputs": [],
   "source": [
    "fig, ((ax1, ax2), (ax3, ax4)) = plt.subplots(2, 2, figsize=(12,6))\n",
    "fig.suptitle('Average of KPIs with 95% confidence interval')\n",
    "\n",
    "sns.lineplot(x=\"Step\", y='Average Adaptation Motivation', data=df_no_agent, errorbar='ci', err_style=\"band\", label='Average AM', color='blue', ax=ax1)\n",
    "ax1.set_title('Average Adaptation Motivation\\n based on 70 iterations', fontsize=10)\n",
    "ax1.set_xlabel('Step', fontsize=8)\n",
    "ax1.set_ylabel('Average Adaptation Motivation', fontsize=8)\n",
    "ax1.legend(loc='lower right', prop={'size': 6})\n",
    "\n",
    "sns.lineplot(x=\"Step\", y='Average flood damage', data=df_no_agent, errorbar='ci', err_style=\"band\", label='Average Flood Damage', color='red', ax=ax2)\n",
    "ax2.set_title('Average Flood Damage\\n based on 70 iterations', fontsize=10)\n",
    "ax2.set_xlabel('Step', fontsize=8)\n",
    "ax2.set_ylabel('Average flood damage', fontsize=8)\n",
    "ax2.legend(loc='lower right', prop={'size': 6})\n",
    "\n",
    "sns.lineplot(x=\"Step\", y='total_adapted_households', data=df_no_agent, errorbar='ci', err_style=\"band\", label='Average Adapted Households', color='green', ax=ax3)\n",
    "ax3.set_title('Average Adapted Households\\n based on 70 iterations', fontsize=10)\n",
    "ax3.set_xlabel('Step', fontsize=8)\n",
    "ax3.set_ylabel('Average Adapted households', fontsize=8)\n",
    "#ax3.set_ylim(47, 53)\n",
    "ax3.legend(loc='lower right', prop={'size': 6})\n",
    "\n",
    "sns.lineplot(x=\"Step\", y='total_decisions_to_adapt', data=df_no_agent, errorbar='ci', err_style=\"band\", label='Average Flood Damage', color='orange', ax=ax4)\n",
    "ax4.set_title('Average Decisions to Adapt\\n based on 70 iterations', fontsize=10)\n",
    "ax4.set_xlabel('Step', fontsize=8)\n",
    "ax4.set_ylabel('Average decisions to adapt', fontsize=8)\n",
    "ax4.legend(loc='lower right', prop={'size': 6})\n",
    "\n",
    "plt.subplots_adjust(hspace=0.6)\n",
    "plt.subplots_adjust(wspace=0.3)\n",
    "plt.savefig(\"figures/Average_KPIs_ci95_n70_new.png\", dpi=100, bbox_inches='tight')\n",
    "plt.show()"
   ]
  }
 ],
 "metadata": {
  "kernelspec": {
   "display_name": "Python 3 (ipykernel)",
   "language": "python",
   "name": "python3"
  },
  "language_info": {
   "codemirror_mode": {
    "name": "ipython",
    "version": 3
   },
   "file_extension": ".py",
   "mimetype": "text/x-python",
   "name": "python",
   "nbconvert_exporter": "python",
   "pygments_lexer": "ipython3",
   "version": "3.12.0"
  }
 },
 "nbformat": 4,
 "nbformat_minor": 5
}
