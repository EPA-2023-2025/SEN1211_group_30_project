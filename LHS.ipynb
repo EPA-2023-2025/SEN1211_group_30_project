{
 "cells": [
  {
   "cell_type": "code",
   "execution_count": 1,
   "id": "96936007-5497-4f3e-99ce-40ae200ccffb",
   "metadata": {},
   "outputs": [],
   "source": [
    "from ema_workbench import Model, RealParameter, TimeSeriesOutcome, ema_logging, perform_experiments"
   ]
  },
  {
   "cell_type": "code",
   "execution_count": 2,
   "id": "8b100fc2-e76d-48e0-b821-377f787fcafa",
   "metadata": {},
   "outputs": [],
   "source": [
    "import pandas as pd\n",
    "import numpy as np\n",
    "import matplotlib.pyplot as plt\n",
    "import networkx as nx\n",
    "import seaborn as sns\n",
    "import random\n",
    "from shapely.geometry import Point\n",
    "from shapely import contains_xy\n",
    "\n",
    "# Import functions from functions.py\n",
    "from functions import generate_random_location_within_map_domain, get_flood_depth, calculate_basic_flood_damage, floodplain_multipolygon\n",
    "import networkx as nx\n",
    "from mesa import Model, Agent\n",
    "from mesa.time import RandomActivation\n",
    "from mesa.space import NetworkGrid\n",
    "from mesa.datacollection import DataCollector\n",
    "from mesa import batch_run\n",
    "import geopandas as gpd\n",
    "import rasterio as rs\n",
    "import matplotlib.pyplot as plt\n",
    "# Import the agent class(es) from agents.py\n",
    "from agents import Households\n",
    "from agents import Government\n",
    "from rbb import OrganizationInstrument\n",
    "\n",
    "# Import functions from functions.py\n",
    "from functions import get_flood_map_data, calculate_basic_flood_damage\n",
    "from functions import map_domain_gdf, floodplain_gdf\n",
    "\n",
    "from model import AdaptationModel"
   ]
  },
  {
   "cell_type": "code",
   "execution_count": 3,
   "id": "ea5d39bb-a559-4b6d-ad60-1e43fa83f17f",
   "metadata": {},
   "outputs": [
    {
     "ename": "AttributeError",
     "evalue": "'list' object has no attribute 'keys'",
     "output_type": "error",
     "traceback": [
      "\u001b[1;31m---------------------------------------------------------------------------\u001b[0m",
      "\u001b[1;31mAttributeError\u001b[0m                            Traceback (most recent call last)",
      "Cell \u001b[1;32mIn[3], line 17\u001b[0m\n\u001b[0;32m     14\u001b[0m m1\u001b[38;5;241m.\u001b[39muncertainties \u001b[38;5;241m=\u001b[39m [RealParameter(\u001b[38;5;124m\"\u001b[39m\u001b[38;5;124mintention_action_gap\u001b[39m\u001b[38;5;124m\"\u001b[39m, \u001b[38;5;241m0\u001b[39m, \u001b[38;5;241m1\u001b[39m),\n\u001b[0;32m     15\u001b[0m                     RealParameter(\u001b[38;5;124m\"\u001b[39m\u001b[38;5;124mmax_damage_costs\u001b[39m\u001b[38;5;124m\"\u001b[39m, \u001b[38;5;241m4500\u001b[39m, \u001b[38;5;241m5500\u001b[39m)]\n\u001b[0;32m     16\u001b[0m m1\u001b[38;5;241m.\u001b[39moutcomes \u001b[38;5;241m=\u001b[39m [TimeSeriesOutcome(\u001b[38;5;124m'\u001b[39m\u001b[38;5;124mTotal adapted households\u001b[39m\u001b[38;5;124m'\u001b[39m)]\n\u001b[1;32m---> 17\u001b[0m results \u001b[38;5;241m=\u001b[39m \u001b[43mperform_experiments\u001b[49m\u001b[43m(\u001b[49m\u001b[43mm1\u001b[49m\u001b[43m,\u001b[49m\u001b[43m \u001b[49m\u001b[38;5;241;43m10\u001b[39;49m\u001b[43m,\u001b[49m\u001b[43m \u001b[49m\u001b[43mlog_progress\u001b[49m\u001b[38;5;241;43m=\u001b[39;49m\u001b[38;5;28;43;01mTrue\u001b[39;49;00m\u001b[43m)\u001b[49m\n",
      "File \u001b[1;32m~\\anaconda3\\envs\\sen1211\\Lib\\site-packages\\ema_workbench\\em_framework\\evaluators.py:359\u001b[0m, in \u001b[0;36mperform_experiments\u001b[1;34m(models, scenarios, policies, evaluator, reporting_interval, reporting_frequency, uncertainty_union, lever_union, outcome_union, uncertainty_sampling, lever_sampling, callback, return_callback, combine, log_progress, **kwargs)\u001b[0m\n\u001b[0;32m    356\u001b[0m \u001b[38;5;28;01mif\u001b[39;00m \u001b[38;5;129;01mnot\u001b[39;00m scenarios \u001b[38;5;129;01mand\u001b[39;00m \u001b[38;5;129;01mnot\u001b[39;00m policies:\n\u001b[0;32m    357\u001b[0m     \u001b[38;5;28;01mraise\u001b[39;00m EMAError(\u001b[38;5;124m\"\u001b[39m\u001b[38;5;124mno experiments possible since both \u001b[39m\u001b[38;5;124m\"\u001b[39m \u001b[38;5;124m\"\u001b[39m\u001b[38;5;124mscenarios and policies are 0\u001b[39m\u001b[38;5;124m\"\u001b[39m)\n\u001b[1;32m--> 359\u001b[0m scenarios, uncertainties, n_scenarios \u001b[38;5;241m=\u001b[39m \u001b[43msetup_scenarios\u001b[49m\u001b[43m(\u001b[49m\n\u001b[0;32m    360\u001b[0m \u001b[43m    \u001b[49m\u001b[43mscenarios\u001b[49m\u001b[43m,\u001b[49m\u001b[43m \u001b[49m\u001b[43muncertainty_sampling\u001b[49m\u001b[43m,\u001b[49m\u001b[43m \u001b[49m\u001b[43muncertainty_union\u001b[49m\u001b[43m,\u001b[49m\u001b[43m \u001b[49m\u001b[43mmodels\u001b[49m\n\u001b[0;32m    361\u001b[0m \u001b[43m\u001b[49m\u001b[43m)\u001b[49m\n\u001b[0;32m    362\u001b[0m policies, levers, n_policies \u001b[38;5;241m=\u001b[39m setup_policies(policies, lever_sampling, lever_union, models)\n\u001b[0;32m    364\u001b[0m \u001b[38;5;28;01mtry\u001b[39;00m:\n",
      "File \u001b[1;32m~\\anaconda3\\envs\\sen1211\\Lib\\site-packages\\ema_workbench\\em_framework\\evaluators.py:491\u001b[0m, in \u001b[0;36msetup_scenarios\u001b[1;34m(scenarios, uncertainty_sampling, uncertainty_union, models)\u001b[0m\n\u001b[0;32m    489\u001b[0m \u001b[38;5;28;01mif\u001b[39;00m \u001b[38;5;129;01mnot\u001b[39;00m \u001b[38;5;28misinstance\u001b[39m(sampler, AbstractSampler):\n\u001b[0;32m    490\u001b[0m     sampler \u001b[38;5;241m=\u001b[39m sampler\u001b[38;5;241m.\u001b[39mvalue\n\u001b[1;32m--> 491\u001b[0m scenarios \u001b[38;5;241m=\u001b[39m \u001b[43msample_uncertainties\u001b[49m\u001b[43m(\u001b[49m\n\u001b[0;32m    492\u001b[0m \u001b[43m    \u001b[49m\u001b[43mmodels\u001b[49m\u001b[43m,\u001b[49m\u001b[43m \u001b[49m\u001b[43mscenarios\u001b[49m\u001b[43m,\u001b[49m\u001b[43m \u001b[49m\u001b[43msampler\u001b[49m\u001b[38;5;241;43m=\u001b[39;49m\u001b[43msampler\u001b[49m\u001b[43m,\u001b[49m\u001b[43m \u001b[49m\u001b[43munion\u001b[49m\u001b[38;5;241;43m=\u001b[39;49m\u001b[43muncertainty_union\u001b[49m\n\u001b[0;32m    493\u001b[0m \u001b[43m\u001b[49m\u001b[43m)\u001b[49m\n\u001b[0;32m    494\u001b[0m uncertainties \u001b[38;5;241m=\u001b[39m scenarios\u001b[38;5;241m.\u001b[39mparameters\n\u001b[0;32m    495\u001b[0m n_scenarios \u001b[38;5;241m=\u001b[39m scenarios\u001b[38;5;241m.\u001b[39mn\n",
      "File \u001b[1;32m~\\anaconda3\\envs\\sen1211\\Lib\\site-packages\\ema_workbench\\em_framework\\samplers.py:554\u001b[0m, in \u001b[0;36msample_uncertainties\u001b[1;34m(models, n_samples, union, sampler)\u001b[0m\n\u001b[0;32m    537\u001b[0m \u001b[38;5;28;01mdef\u001b[39;00m \u001b[38;5;21msample_uncertainties\u001b[39m(models, n_samples, union\u001b[38;5;241m=\u001b[39m\u001b[38;5;28;01mTrue\u001b[39;00m, sampler\u001b[38;5;241m=\u001b[39mLHSSampler()):\n\u001b[0;32m    538\u001b[0m \u001b[38;5;250m    \u001b[39m\u001b[38;5;124;03m\"\"\"generate scenarios by sampling over the uncertainties\u001b[39;00m\n\u001b[0;32m    539\u001b[0m \n\u001b[0;32m    540\u001b[0m \u001b[38;5;124;03m    Parameters\u001b[39;00m\n\u001b[1;32m   (...)\u001b[0m\n\u001b[0;32m    552\u001b[0m \n\u001b[0;32m    553\u001b[0m \u001b[38;5;124;03m    \"\"\"\u001b[39;00m\n\u001b[1;32m--> 554\u001b[0m     uncertainties \u001b[38;5;241m=\u001b[39m \u001b[43mdetermine_parameters\u001b[49m\u001b[43m(\u001b[49m\u001b[43mmodels\u001b[49m\u001b[43m,\u001b[49m\u001b[43m \u001b[49m\u001b[38;5;124;43m\"\u001b[39;49m\u001b[38;5;124;43muncertainties\u001b[39;49m\u001b[38;5;124;43m\"\u001b[39;49m\u001b[43m,\u001b[49m\u001b[43m \u001b[49m\u001b[43munion\u001b[49m\u001b[38;5;241;43m=\u001b[39;49m\u001b[43munion\u001b[49m\u001b[43m)\u001b[49m\n\u001b[0;32m    556\u001b[0m     \u001b[38;5;28;01mif\u001b[39;00m \u001b[38;5;129;01mnot\u001b[39;00m uncertainties:\n\u001b[0;32m    557\u001b[0m         \u001b[38;5;28;01mraise\u001b[39;00m EMAError(\u001b[38;5;124m\"\u001b[39m\u001b[38;5;124mYou are trying to sample scenarios, but no uncertainties have been defined\u001b[39m\u001b[38;5;124m\"\u001b[39m)\n",
      "File \u001b[1;32m~\\anaconda3\\envs\\sen1211\\Lib\\site-packages\\ema_workbench\\em_framework\\samplers.py:486\u001b[0m, in \u001b[0;36mdetermine_parameters\u001b[1;34m(models, attribute, union)\u001b[0m\n\u001b[0;32m    470\u001b[0m \u001b[38;5;28;01mdef\u001b[39;00m \u001b[38;5;21mdetermine_parameters\u001b[39m(models, attribute, union\u001b[38;5;241m=\u001b[39m\u001b[38;5;28;01mTrue\u001b[39;00m):\n\u001b[0;32m    471\u001b[0m \u001b[38;5;250m    \u001b[39m\u001b[38;5;124;03m\"\"\"determine the parameters over which to sample\u001b[39;00m\n\u001b[0;32m    472\u001b[0m \n\u001b[0;32m    473\u001b[0m \u001b[38;5;124;03m    Parameters\u001b[39;00m\n\u001b[1;32m   (...)\u001b[0m\n\u001b[0;32m    484\u001b[0m \n\u001b[0;32m    485\u001b[0m \u001b[38;5;124;03m    \"\"\"\u001b[39;00m\n\u001b[1;32m--> 486\u001b[0m     \u001b[38;5;28;01mreturn\u001b[39;00m \u001b[43mutil\u001b[49m\u001b[38;5;241;43m.\u001b[39;49m\u001b[43mdetermine_objects\u001b[49m\u001b[43m(\u001b[49m\u001b[43mmodels\u001b[49m\u001b[43m,\u001b[49m\u001b[43m \u001b[49m\u001b[43mattribute\u001b[49m\u001b[43m,\u001b[49m\u001b[43m \u001b[49m\u001b[43munion\u001b[49m\u001b[38;5;241;43m=\u001b[39;49m\u001b[43munion\u001b[49m\u001b[43m)\u001b[49m\n",
      "File \u001b[1;32m~\\anaconda3\\envs\\sen1211\\Lib\\site-packages\\ema_workbench\\em_framework\\util.py:241\u001b[0m, in \u001b[0;36mdetermine_objects\u001b[1;34m(models, attribute, union)\u001b[0m\n\u001b[0;32m    238\u001b[0m     models \u001b[38;5;241m=\u001b[39m \u001b[38;5;28miter\u001b[39m([models])\n\u001b[0;32m    240\u001b[0m named_objects \u001b[38;5;241m=\u001b[39m \u001b[38;5;28mgetattr\u001b[39m(\u001b[38;5;28mnext\u001b[39m(models), attribute)\u001b[38;5;241m.\u001b[39mcopy()\n\u001b[1;32m--> 241\u001b[0m intersection \u001b[38;5;241m=\u001b[39m \u001b[38;5;28mset\u001b[39m(\u001b[43mnamed_objects\u001b[49m\u001b[38;5;241;43m.\u001b[39;49m\u001b[43mkeys\u001b[49m())\n\u001b[0;32m    243\u001b[0m \u001b[38;5;66;03m# gather parameters across all models\u001b[39;00m\n\u001b[0;32m    244\u001b[0m \u001b[38;5;28;01mfor\u001b[39;00m model \u001b[38;5;129;01min\u001b[39;00m models:\n",
      "\u001b[1;31mAttributeError\u001b[0m: 'list' object has no attribute 'keys'"
     ]
    }
   ],
   "source": [
    "m1 = AdaptationModel(seed = 42)\n",
    "# m1.uncertainties = [RealParameter(\"intention_action_gap\", 0, 1),\n",
    "#                     RealParameter(\"low_threshold\" : 0.55, 0.65),\n",
    "#                     RealParameter(\"medium_threshold\" : 0.65, 0.75),\n",
    "#                     RealParameter(\"high_threshold\" : 0.75, 0.85),\n",
    "#                     RealParameter(\"upper_budget_threshold\" : 6300, 7700),\n",
    "#                     RealParameter(\"lower_budget_threshold\" : 1700, 3300),\n",
    "#                     RealParameter(\"max_damage_costs\" : 4500, 5500),\n",
    "#                     RealParameter(\"flood_risk_threshold\" : 1.4, 1.6),\n",
    "#                     RealParameter(\"public_concern_threshold\" : 0.5, 0.7),\n",
    "#                     RealParameter(\"damage_threshold\" : 0.2, 0.4),\n",
    "#                     RealParameter(\"high_risk_bound\" : 2.8, 3),\n",
    "#                     RealParameter(\"lower_risk_bound\" : 1.8, 2)]\n",
    "m1.uncertainties = [RealParameter(\"intention_action_gap\", 0, 1),\n",
    "                    RealParameter(\"max_damage_costs\", 4500, 5500)]\n",
    "m1.outcomes = [TimeSeriesOutcome('Total adapted households')]\n",
    "results = perform_experiments(m1, 10, log_progress=True)"
   ]
  },
  {
   "cell_type": "code",
   "execution_count": null,
   "id": "398158f5-6a72-4e82-9a14-3a75d9038d58",
   "metadata": {},
   "outputs": [],
   "source": []
  }
 ],
 "metadata": {
  "kernelspec": {
   "display_name": "Python 3 (ipykernel)",
   "language": "python",
   "name": "python3"
  },
  "language_info": {
   "codemirror_mode": {
    "name": "ipython",
    "version": 3
   },
   "file_extension": ".py",
   "mimetype": "text/x-python",
   "name": "python",
   "nbconvert_exporter": "python",
   "pygments_lexer": "ipython3",
   "version": "3.12.0"
  }
 },
 "nbformat": 4,
 "nbformat_minor": 5
}
